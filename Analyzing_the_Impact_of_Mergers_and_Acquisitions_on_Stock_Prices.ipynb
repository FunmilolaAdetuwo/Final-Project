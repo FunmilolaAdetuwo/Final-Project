{
  "nbformat": 4,
  "nbformat_minor": 0,
  "metadata": {
    "colab": {
      "provenance": [],
      "authorship_tag": "ABX9TyOXtxWjmaREzxtg2Nsj5VRq",
      "include_colab_link": true
    },
    "kernelspec": {
      "name": "python3",
      "display_name": "Python 3"
    },
    "language_info": {
      "name": "python"
    }
  },
  "cells": [
    {
      "cell_type": "markdown",
      "metadata": {
        "id": "view-in-github",
        "colab_type": "text"
      },
      "source": [
        "<a href=\"https://colab.research.google.com/github/FunmilolaAdetuwo/Final-Project/blob/main/Analyzing_the_Impact_of_Mergers_and_Acquisitions_on_Stock_Prices.ipynb\" target=\"_parent\"><img src=\"https://colab.research.google.com/assets/colab-badge.svg\" alt=\"Open In Colab\"/></a>"
      ]
    },
    {
      "cell_type": "code",
      "execution_count": 2,
      "metadata": {
        "id": "YbnaH-51tXQZ"
      },
      "outputs": [],
      "source": [
        "# Importing necessary libraries\n",
        "\n",
        "import yfinance as yf\n",
        "import pandas as pd\n",
        "from datetime import datetime"
      ]
    },
    {
      "cell_type": "code",
      "source": [
        "# Let's list the name of the companies for the different Merger and Acquisition(M&A) types\n",
        "\n",
        "# For the stock price years we will be using 5 year stock price, which will be 2.5 years pre M&A date and 2.5 years post M&A dates\n",
        "\n",
        "companies = {\n",
        "    'horizontal': {'company': 'MSFT', 'ma_dte': '2016-06-13', 'start_date': '2013-12-13', 'end_date': '2018-12-13'},  # Microsoft acquiring LinkedIn\n",
        "    'vertical': {'company': 'AMZN', 'ma_dte': '2017-06-16', 'start_date': '2014-12-16', 'end_date': '2019-12-16'},    # Amazon acquiring Whole Foods\n",
        "    'conglomerate': {'company': 'BRK.A', 'ma_dte': '2015-08-10', 'start_date': '2013-02-10', 'end_date': '2018-02-10'}  # Berkshire Hathaway acquiring Precision Castparts\n",
        "}\n",
        "\n"
      ],
      "metadata": {
        "id": "vTr5fuSduamx"
      },
      "execution_count": 3,
      "outputs": []
    },
    {
      "cell_type": "code",
      "source": [
        "# Download stock price data from Yahoo Finance for 2.5 years before and after\n",
        "def download_stock_data(ticker, start_date, end_date):\n",
        "    stock_data = yf.download(ticker, start=start_date, end=end_date)\n",
        "    return stock_data\n",
        "\n",
        "# Collect stock data for each M&A type\n",
        "stock_data = {}\n",
        "for mna_type, company_info in companies.items():\n",
        "    ticker = company_info['company']\n",
        "    start_date = company_info['start_date']\n",
        "    end_date = company_info['end_date']\n",
        "    stock_data[mna_type] = download_stock_data(ticker, start_date, end_date)\n",
        "\n",
        "# Combine with M&A dates\n",
        "mna_dates = pd.DataFrame(companies).T\n",
        "mna_dates['mna_date'] = pd.to_datetime(mna_dates['mna_date'])\n",
        "\n",
        "# Display the stock data for validation\n",
        "print(stock_data)"
      ],
      "metadata": {
        "id": "263qUFDevrE9"
      },
      "execution_count": null,
      "outputs": []
    }
  ]
}