{
  "nbformat": 4,
  "nbformat_minor": 0,
  "metadata": {
    "colab": {
      "provenance": [],
      "authorship_tag": "ABX9TyPWZWIoGxBY5MEHIn4JAMvI",
      "include_colab_link": true
    },
    "kernelspec": {
      "name": "python3",
      "display_name": "Python 3"
    },
    "language_info": {
      "name": "python"
    }
  },
  "cells": [
    {
      "cell_type": "markdown",
      "metadata": {
        "id": "view-in-github",
        "colab_type": "text"
      },
      "source": [
        "<a href=\"https://colab.research.google.com/github/FunmilolaAdetuwo/Final-Project/blob/main/Analyzing_the_Impact_of_Mergers_and_Acquisitions_on_Stock_Prices.ipynb\" target=\"_parent\"><img src=\"https://colab.research.google.com/assets/colab-badge.svg\" alt=\"Open In Colab\"/></a>"
      ]
    },
    {
      "cell_type": "code",
      "source": [
        "# Let's install SEC Edgar downloader library firstg\n",
        "\n",
        "!pip install sec-edgar-downloader\n"
      ],
      "metadata": {
        "colab": {
          "base_uri": "https://localhost:8080/"
        },
        "id": "1k7RlBeX4g_B",
        "outputId": "d9309eab-fd1b-4c82-8be8-1ad8792b2bed"
      },
      "execution_count": 5,
      "outputs": [
        {
          "output_type": "stream",
          "name": "stdout",
          "text": [
            "Collecting sec-edgar-downloader\n",
            "  Downloading sec_edgar_downloader-5.0.2-py3-none-any.whl.metadata (11 kB)\n",
            "Requirement already satisfied: requests in /usr/local/lib/python3.10/dist-packages (from sec-edgar-downloader) (2.32.3)\n",
            "Collecting pyrate-limiter>=3.1.0 (from sec-edgar-downloader)\n",
            "  Downloading pyrate_limiter-3.7.0-py3-none-any.whl.metadata (25 kB)\n",
            "Requirement already satisfied: charset-normalizer<4,>=2 in /usr/local/lib/python3.10/dist-packages (from requests->sec-edgar-downloader) (3.4.0)\n",
            "Requirement already satisfied: idna<4,>=2.5 in /usr/local/lib/python3.10/dist-packages (from requests->sec-edgar-downloader) (3.10)\n",
            "Requirement already satisfied: urllib3<3,>=1.21.1 in /usr/local/lib/python3.10/dist-packages (from requests->sec-edgar-downloader) (2.2.3)\n",
            "Requirement already satisfied: certifi>=2017.4.17 in /usr/local/lib/python3.10/dist-packages (from requests->sec-edgar-downloader) (2024.8.30)\n",
            "Downloading sec_edgar_downloader-5.0.2-py3-none-any.whl (14 kB)\n",
            "Downloading pyrate_limiter-3.7.0-py3-none-any.whl (28 kB)\n",
            "Installing collected packages: pyrate-limiter, sec-edgar-downloader\n",
            "Successfully installed pyrate-limiter-3.7.0 sec-edgar-downloader-5.0.2\n"
          ]
        }
      ]
    },
    {
      "cell_type": "code",
      "execution_count": 6,
      "metadata": {
        "id": "YbnaH-51tXQZ"
      },
      "outputs": [],
      "source": [
        "# Importing necessary libraries\n",
        "\n",
        "import yfinance as yf\n",
        "import pandas as pd\n",
        "from datetime import datetime\n",
        "import os\n",
        "from sec_edgar_downloader import Downloader\n"
      ]
    },
    {
      "cell_type": "markdown",
      "source": [
        "Let's list the name of the companies for the different Merger and Acquisition(M&A) types\n",
        "\n",
        "For the stock price years we will be using 5 year stock price, which will be 2.5 years pre M&A date and 2.5 years post M&A dates\n",
        "the companies that will be used are: Microsoft which acquired LinkedIn (for Horizontal type of M&A)\n",
        "Amazon which acquired Whole Foods (for Vertical type of M&A)\n",
        "Berkshire Hathaway which acquired Precision Castparts (for Conglomerate type of M&A)\n",
        "\n",
        "first let's extract the M&A dates from SEC Edgar"
      ],
      "metadata": {
        "id": "RsKENF5w49JD"
      }
    },
    {
      "cell_type": "code",
      "source": [
        "# Let's mount the drive\n",
        "from google.colab import drive\n",
        "drive.mount('/content/drive')\n"
      ],
      "metadata": {
        "colab": {
          "base_uri": "https://localhost:8080/"
        },
        "id": "h-SDPfSC7dPO",
        "outputId": "6dca254f-1b42-4c8d-c19f-4495870a64d7"
      },
      "execution_count": 14,
      "outputs": [
        {
          "output_type": "stream",
          "name": "stdout",
          "text": [
            "Drive already mounted at /content/drive; to attempt to forcibly remount, call drive.mount(\"/content/drive\", force_remount=True).\n"
          ]
        }
      ]
    },
    {
      "cell_type": "code",
      "source": [
        "# defining where the downloaded fillings will be saved in the directory\n",
        "download_flgs = \"/content/drive/My Drive/downloaded_filings\""
      ],
      "metadata": {
        "id": "ay_GEKmC505a"
      },
      "execution_count": 15,
      "outputs": []
    },
    {
      "cell_type": "code",
      "source": [
        "# Checking that the directory exists\n",
        "if not os.path.exists(download_flgs):\n",
        "    os.makedirs(download_flgs)"
      ],
      "metadata": {
        "id": "HA8kv9J0-ohx"
      },
      "execution_count": 17,
      "outputs": []
    },
    {
      "cell_type": "markdown",
      "source": [
        "To comply with the SEC's fair access rule, where a user of their electronic system must provide the email address and company name , we will now provide an email address as part of initialization of the downloader"
      ],
      "metadata": {
        "id": "33tXqtRrAzj5"
      }
    },
    {
      "cell_type": "code",
      "source": [
        "compy_name = \"University of Hertfordshire\"\n",
        "email_add = \"afummite@gmail.com\""
      ],
      "metadata": {
        "id": "Q0GUziozBgir"
      },
      "execution_count": 28,
      "outputs": []
    },
    {
      "cell_type": "code",
      "source": [
        "# Initializing the downloader\n",
        "def download_sec_filings(ticker, num_filings):\n",
        "    dl = Downloader(compy_name, email_add, download_folder=download_flgs)\n",
        "    dl.get(\"8-K\", ticker, limit=num_filings)\n"
      ],
      "metadata": {
        "id": "vTr5fuSduamx"
      },
      "execution_count": 31,
      "outputs": []
    },
    {
      "cell_type": "code",
      "source": [
        "# The Companies and their tickers\n",
        "cmpy_tick = {\n",
        "    \"MSFT\": \"Microsoft Corporation\",\n",
        "    \"AMZN\": \"Amazon.com, Inc.\",\n",
        "    \"BRK-A\": \"Berkshire Hathaway Inc.\"\n",
        "}\n",
        "\n",
        "\n",
        "for ticker in cmpy_tick.keys():\n",
        "    download_sec_filings(ticker, 10)\n"
      ],
      "metadata": {
        "id": "0YDfPIVp3y0_"
      },
      "execution_count": 32,
      "outputs": []
    },
    {
      "cell_type": "code",
      "source": [
        "\n",
        "def extract_ma_dates(ticker):\n",
        "    return \"YYYY-MM-DD\""
      ],
      "metadata": {
        "id": "SOmGN-v2KCjV"
      },
      "execution_count": 33,
      "outputs": []
    },
    {
      "cell_type": "code",
      "source": [
        "# Storing the M&A dates in dictionary\n",
        "ma_dates = {}\n",
        "\n",
        "# Let's extract the M&A dates for the companies\n",
        "for ticker in cmpy_tick.keys():\n",
        "    ma_dates[ticker] = extract_ma_dates(ticker)"
      ],
      "metadata": {
        "id": "5B_zzkCGKLWZ"
      },
      "execution_count": 35,
      "outputs": []
    },
    {
      "cell_type": "code",
      "source": [
        "# Now displaying the M&A dates\n",
        "print(\"M&A announcement dates:\")\n",
        "for ticker, date in ma_dates.items():\n",
        "    print(f\"{cmpy_tick[ticker]} ({ticker}): {date}\")"
      ],
      "metadata": {
        "colab": {
          "base_uri": "https://localhost:8080/"
        },
        "id": "RwmIhi2IKsyB",
        "outputId": "9eb3c06c-f8e0-45d8-8bf2-d199a7da53e1"
      },
      "execution_count": 38,
      "outputs": [
        {
          "output_type": "stream",
          "name": "stdout",
          "text": [
            "M&A announcement dates:\n",
            "Microsoft Corporation (MSFT): YYYY-MM-DD\n",
            "Amazon.com, Inc. (AMZN): YYYY-MM-DD\n",
            "Berkshire Hathaway Inc. (BRK-A): YYYY-MM-DD\n"
          ]
        }
      ]
    },
    {
      "cell_type": "code",
      "source": [],
      "metadata": {
        "id": "xnq6Hoho8tpl"
      },
      "execution_count": null,
      "outputs": []
    },
    {
      "cell_type": "code",
      "source": [
        "cmpys = {\n",
        "    'horizontal': {'company': 'MSFT', 'ma_dte': '2016-06-13', 'start_date': '2013-12-13', 'end_date': '2018-12-13'},\n",
        "    'vertical': {'company': 'AMZN', 'ma_dte': '2017-06-16', 'start_date': '2014-12-16', 'end_date': '2019-12-16'},\n",
        "    'conglomerate': {'company': 'BRK.A', 'ma_dte': '2015-08-10', 'start_date': '2013-02-10', 'end_date': '2018-02-10'}\n",
        "}\n"
      ],
      "metadata": {
        "id": "y-OE4i-T3fUH"
      },
      "execution_count": null,
      "outputs": []
    },
    {
      "cell_type": "code",
      "source": [
        "# Download stock price data from Yahoo Finance for 2.5 years before and after\n",
        "def download_stock_data(ticker, start_date, end_date):\n",
        "    stock_data = yf.download(ticker, start=start_date, end=end_date)\n",
        "    return stock_data\n",
        "\n",
        "# Collect stock data for each M&A type\n",
        "stock_data = {}\n",
        "for mna_type, company_info in companies.items():\n",
        "    ticker = company_info['company']\n",
        "    start_date = company_info['start_date']\n",
        "    end_date = company_info['end_date']\n",
        "    stock_data[mna_type] = download_stock_data(ticker, start_date, end_date)\n",
        "\n",
        "# Combine with M&A dates\n",
        "mna_dates = pd.DataFrame(companies).T\n",
        "mna_dates['mna_date'] = pd.to_datetime(mna_dates['mna_date'])\n",
        "\n",
        "# Display the stock data for validation\n",
        "print(stock_data)"
      ],
      "metadata": {
        "id": "263qUFDevrE9"
      },
      "execution_count": null,
      "outputs": []
    }
  ]
}