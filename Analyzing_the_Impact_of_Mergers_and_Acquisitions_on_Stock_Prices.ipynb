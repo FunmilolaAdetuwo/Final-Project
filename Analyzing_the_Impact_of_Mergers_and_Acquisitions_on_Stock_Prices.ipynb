{
  "nbformat": 4,
  "nbformat_minor": 0,
  "metadata": {
    "colab": {
      "provenance": [],
      "authorship_tag": "ABX9TyM1FlPqch2jTdMBloMDg9xa",
      "include_colab_link": true
    },
    "kernelspec": {
      "name": "python3",
      "display_name": "Python 3"
    },
    "language_info": {
      "name": "python"
    }
  },
  "cells": [
    {
      "cell_type": "markdown",
      "metadata": {
        "id": "view-in-github",
        "colab_type": "text"
      },
      "source": [
        "<a href=\"https://colab.research.google.com/github/FunmilolaAdetuwo/Final-Project/blob/main/Analyzing_the_Impact_of_Mergers_and_Acquisitions_on_Stock_Prices.ipynb\" target=\"_parent\"><img src=\"https://colab.research.google.com/assets/colab-badge.svg\" alt=\"Open In Colab\"/></a>"
      ]
    },
    {
      "cell_type": "code",
      "execution_count": 8,
      "metadata": {
        "id": "YbnaH-51tXQZ"
      },
      "outputs": [],
      "source": [
        "# Importing necessary libraries\n",
        "\n",
        "import yfinance as yf\n",
        "import pandas as pd\n",
        "from datetime import datetime\n",
        "import os\n",
        "import re\n"
      ]
    },
    {
      "cell_type": "markdown",
      "source": [
        "Let's list the name of the companies for the different Merger and Acquisition(M&A) types\n",
        "\n",
        "For the stock price years we will be using 5 year stock price, which will be 2.5 years pre M&A date and 2.5 years post M&A dates\n",
        "the companies that will be used are: Microsoft which acquired LinkedIn (for Horizontal type of M&A)\n",
        "Amazon which acquired Whole Foods (for Vertical type of M&A)\n",
        "Berkshire Hathaway which acquired Precision Castparts (for Conglomerate type of M&A)\n"
      ],
      "metadata": {
        "id": "RsKENF5w49JD"
      }
    },
    {
      "cell_type": "code",
      "source": [
        "# First, let's diplay the company tickers,acquisition announcement dates, and the SEC filing links from SEC EDGAR\n",
        "acqsitn_dtls = {\n",
        "    \"Microsoft Corporation (MSFT)\": {\n",
        "        \"Date\": \"June 13, 2016\",\n",
        "        \"SEC Filing\": \"https://www.sec.gov/Archives/edgar/data/789019/000119312516619689/d116815d8k.htm\"\n",
        "    },\n",
        "    \"Amazon.com, Inc. (AMZN)\": {\n",
        "        \"Date\": \"June 16, 2017\",\n",
        "        \"SEC Filing\": \"https://www.sec.gov/Archives/edgar/data/1018724/000119312517205287/d352949d8k.htm\"\n",
        "    },\n",
        "    \"Berkshire Hathaway Inc. (BRK-A)\": {\n",
        "        \"Date\": \"August 10, 2015\",\n",
        "        \"SEC Filing\": \"https://www.sec.gov/Archives/edgar/data/1067983/000119312515285104/d41723d8k.htm\"\n",
        "    }\n",
        "}\n",
        "\n",
        "print(\"M&A announcement dates:\")\n",
        "for company, details in acqsitn_dtls.items():\n",
        "    print(f\"{company}: {details['Date']}\")\n",
        "    print(f\"SEC Filing Link: {details['SEC Filing']}\\n\")\n"
      ],
      "metadata": {
        "colab": {
          "base_uri": "https://localhost:8080/"
        },
        "id": "Xcr9i0Cw0ZwP",
        "outputId": "6a8548ce-5665-4f7e-d50e-21dcae215d74"
      },
      "execution_count": 3,
      "outputs": [
        {
          "output_type": "stream",
          "name": "stdout",
          "text": [
            "M&A announcement dates:\n",
            "Microsoft Corporation (MSFT): June 13, 2016\n",
            "SEC Filing Link: https://www.sec.gov/Archives/edgar/data/789019/000119312516619689/d116815d8k.htm\n",
            "\n",
            "Amazon.com, Inc. (AMZN): June 16, 2017\n",
            "SEC Filing Link: https://www.sec.gov/Archives/edgar/data/1018724/000119312517205287/d352949d8k.htm\n",
            "\n",
            "Berkshire Hathaway Inc. (BRK-A): August 10, 2015\n",
            "SEC Filing Link: https://www.sec.gov/Archives/edgar/data/1067983/000119312515285104/d41723d8k.htm\n",
            "\n"
          ]
        }
      ]
    },
    {
      "cell_type": "code",
      "source": [
        "# Showing the stock price period to be used for the different mergerand acquisition types\n",
        "cmpys = {\n",
        "    'horizontal': {'company': 'MSFT', 'ma_dte': '2016-06-13', 'start_date': '2013-12-13', 'end_date': '2018-12-13'},\n",
        "    'vertical': {'company': 'AMZN', 'ma_dte': '2017-06-16', 'start_date': '2014-12-16', 'end_date': '2019-12-16'},\n",
        "    'conglomerate': {'company': 'BRK-A', 'ma_dte': '2015-08-10', 'start_date': '2013-02-10', 'end_date': '2018-02-10'}\n",
        "}\n",
        "\n"
      ],
      "metadata": {
        "id": "dToCRQnqraaf"
      },
      "execution_count": 6,
      "outputs": []
    },
    {
      "cell_type": "code",
      "source": [
        "# Downloading the stock price data from Yahoo Finance for 2.5 years before and 2.5 years after M&A\n",
        "def download_stock_data(ticker, start_date, end_date):\n",
        "    stk_dt = yf.download(ticker, start=start_date, end=end_date)\n",
        "    return stk_dt\n",
        "\n",
        "# Collecting the stock data for each of the M&A type\n",
        "stk_dt = {}\n",
        "for mna_type, company_info in cmpys.items():\n",
        "    ticker = company_info['company']\n",
        "    start_date = company_info['start_date']\n",
        "    end_date = company_info['end_date']\n",
        "    stk_dt[mna_type] = download_stock_data(ticker, start_date, end_date)\n",
        "\n",
        "mna_dates = pd.DataFrame(cmpys).T\n",
        "mna_dates['ma_dte'] = pd.to_datetime(mna_dates['ma_dte'])\n",
        "\n",
        "# Displaying the stock price data\n",
        "print(stk_dt)\n",
        "\n",
        "\n"
      ],
      "metadata": {
        "colab": {
          "base_uri": "https://localhost:8080/"
        },
        "id": "gWnk82iiwkL2",
        "outputId": "e64acf9d-d3ba-4065-8e50-494bd9ad3ffd"
      },
      "execution_count": 11,
      "outputs": [
        {
          "output_type": "stream",
          "name": "stderr",
          "text": [
            "[*********************100%***********************]  1 of 1 completed\n",
            "[*********************100%***********************]  1 of 1 completed\n",
            "[*********************100%***********************]  1 of 1 completed"
          ]
        },
        {
          "output_type": "stream",
          "name": "stdout",
          "text": [
            "{'horizontal': Price                       Adj Close       Close        High         Low  \\\n",
            "Ticker                           MSFT        MSFT        MSFT        MSFT   \n",
            "Date                                                                        \n",
            "2013-12-13 00:00:00+00:00   30.727118   36.689999   37.450001   36.619999   \n",
            "2013-12-16 00:00:00+00:00   30.894609   36.889999   37.000000   36.540001   \n",
            "2013-12-17 00:00:00+00:00   30.584745   36.520000   37.110001   36.330002   \n",
            "2013-12-18 00:00:00+00:00   30.635002   36.580002   36.599998   35.529999   \n",
            "2013-12-19 00:00:00+00:00   30.358637   36.250000   36.549999   36.080002   \n",
            "...                               ...         ...         ...         ...   \n",
            "2018-12-06 00:00:00+00:00  103.122932  109.190002  109.239998  105.000000   \n",
            "2018-12-07 00:00:00+00:00   98.995735  104.820000  109.449997  104.300003   \n",
            "2018-12-10 00:00:00+00:00  101.611816  107.589996  107.980003  103.889999   \n",
            "2018-12-11 00:00:00+00:00  102.556244  108.589996  110.949997  107.440002   \n",
            "2018-12-12 00:00:00+00:00  103.019035  109.080002  111.269997  109.040001   \n",
            "\n",
            "Price                            Open    Volume  \n",
            "Ticker                           MSFT      MSFT  \n",
            "Date                                             \n",
            "2013-12-13 00:00:00+00:00   37.419998  40066100  \n",
            "2013-12-16 00:00:00+00:00   36.730000  31734200  \n",
            "2013-12-17 00:00:00+00:00   36.939999  45687700  \n",
            "2013-12-18 00:00:00+00:00   36.360001  63192100  \n",
            "2013-12-19 00:00:00+00:00   36.509998  34160100  \n",
            "...                               ...       ...  \n",
            "2018-12-06 00:00:00+00:00  105.820000  49107400  \n",
            "2018-12-07 00:00:00+00:00  108.379997  45044900  \n",
            "2018-12-10 00:00:00+00:00  104.800003  40801500  \n",
            "2018-12-11 00:00:00+00:00  109.800003  42381900  \n",
            "2018-12-12 00:00:00+00:00  110.889999  36183000  \n",
            "\n",
            "[1258 rows x 6 columns], 'vertical': Price                      Adj Close      Close       High        Low  \\\n",
            "Ticker                          AMZN       AMZN       AMZN       AMZN   \n",
            "Date                                                                    \n",
            "2014-12-16 00:00:00+00:00  14.753000  14.753000  15.224500  14.750500   \n",
            "2014-12-17 00:00:00+00:00  14.944000  14.944000  14.983500  14.651500   \n",
            "2014-12-18 00:00:00+00:00  14.886500  14.886500  15.225000  14.662500   \n",
            "2014-12-19 00:00:00+00:00  14.995000  14.995000  15.077000  14.776000   \n",
            "2014-12-22 00:00:00+00:00  15.327000  15.327000  15.368000  15.097000   \n",
            "...                              ...        ...        ...        ...   \n",
            "2019-12-09 00:00:00+00:00  87.475502  87.475502  88.344498  87.280502   \n",
            "2019-12-10 00:00:00+00:00  86.960503  86.960503  87.533501  86.750000   \n",
            "2019-12-11 00:00:00+00:00  87.435997  87.435997  87.500000  86.785500   \n",
            "2019-12-12 00:00:00+00:00  88.016502  88.016502  88.199997  87.272003   \n",
            "2019-12-13 00:00:00+00:00  88.046997  88.046997  88.449501  87.750000   \n",
            "\n",
            "Price                           Open     Volume  \n",
            "Ticker                          AMZN       AMZN  \n",
            "Date                                             \n",
            "2014-12-16 00:00:00+00:00  15.217500  130026000  \n",
            "2014-12-17 00:00:00+00:00  14.818500   88670000  \n",
            "2014-12-18 00:00:00+00:00  15.200500  154762000  \n",
            "2014-12-19 00:00:00+00:00  14.845500  174182000  \n",
            "2014-12-22 00:00:00+00:00  15.097000   80076000  \n",
            "...                              ...        ...  \n",
            "2019-12-09 00:00:00+00:00  87.532997   48856000  \n",
            "2019-12-10 00:00:00+00:00  87.370003   50286000  \n",
            "2019-12-11 00:00:00+00:00  87.083504   41952000  \n",
            "2019-12-12 00:00:00+00:00  87.500000   61918000  \n",
            "2019-12-13 00:00:00+00:00  88.250000   54914000  \n",
            "\n",
            "[1258 rows x 6 columns], 'conglomerate': Price                     Adj Close     Close      High       Low      Open  \\\n",
            "Ticker                        BRK-A     BRK-A     BRK-A     BRK-A     BRK-A   \n",
            "Date                                                                          \n",
            "2013-02-11 00:00:00+00:00  145835.0  145835.0  146597.0  145835.0  146220.0   \n",
            "2013-02-12 00:00:00+00:00  147125.0  147125.0  147362.0  146100.0  146200.0   \n",
            "2013-02-13 00:00:00+00:00  147750.0  147750.0  147767.0  147046.0  147126.0   \n",
            "2013-02-14 00:00:00+00:00  149240.0  149240.0  149804.0  147478.0  147750.0   \n",
            "2013-02-15 00:00:00+00:00  150141.0  150141.0  153090.0  149620.0  149815.0   \n",
            "...                             ...       ...       ...       ...       ...   \n",
            "2018-02-05 00:00:00+00:00  295600.0  295600.0  311850.0  295000.0  308500.0   \n",
            "2018-02-06 00:00:00+00:00  303000.0  303000.0  303431.0  288540.0  293150.0   \n",
            "2018-02-07 00:00:00+00:00  301000.0  301000.0  306710.0  301000.0  304200.0   \n",
            "2018-02-08 00:00:00+00:00  288000.0  288000.0  301190.0  288000.0  301190.0   \n",
            "2018-02-09 00:00:00+00:00  294140.0  294140.0  296296.0  285250.0  293859.0   \n",
            "\n",
            "Price                     Volume  \n",
            "Ticker                     BRK-A  \n",
            "Date                              \n",
            "2013-02-11 00:00:00+00:00  17300  \n",
            "2013-02-12 00:00:00+00:00  34900  \n",
            "2013-02-13 00:00:00+00:00  46500  \n",
            "2013-02-14 00:00:00+00:00  50000  \n",
            "2013-02-15 00:00:00+00:00  54600  \n",
            "...                          ...  \n",
            "2018-02-05 00:00:00+00:00   1000  \n",
            "2018-02-06 00:00:00+00:00   1200  \n",
            "2018-02-07 00:00:00+00:00    500  \n",
            "2018-02-08 00:00:00+00:00    600  \n",
            "2018-02-09 00:00:00+00:00    900  \n",
            "\n",
            "[1260 rows x 6 columns]}\n"
          ]
        },
        {
          "output_type": "stream",
          "name": "stderr",
          "text": [
            "\n"
          ]
        }
      ]
    },
    {
      "cell_type": "code",
      "source": [],
      "metadata": {
        "id": "xnq6Hoho8tpl"
      },
      "execution_count": null,
      "outputs": []
    },
    {
      "cell_type": "code",
      "source": [],
      "metadata": {
        "id": "y-OE4i-T3fUH"
      },
      "execution_count": 5,
      "outputs": []
    }
  ]
}