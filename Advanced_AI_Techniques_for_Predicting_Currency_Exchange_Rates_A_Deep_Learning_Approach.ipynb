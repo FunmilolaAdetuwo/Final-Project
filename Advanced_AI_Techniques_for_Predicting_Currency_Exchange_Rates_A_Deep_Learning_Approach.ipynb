{
  "nbformat": 4,
  "nbformat_minor": 0,
  "metadata": {
    "colab": {
      "provenance": [],
      "authorship_tag": "ABX9TyOeoGnDnxey6vIJhlxSVevr",
      "include_colab_link": true
    },
    "kernelspec": {
      "name": "python3",
      "display_name": "Python 3"
    },
    "language_info": {
      "name": "python"
    }
  },
  "cells": [
    {
      "cell_type": "markdown",
      "metadata": {
        "id": "view-in-github",
        "colab_type": "text"
      },
      "source": [
        "<a href=\"https://colab.research.google.com/github/FunmilolaAdetuwo/Final-Project/blob/main/Advanced_AI_Techniques_for_Predicting_Currency_Exchange_Rates_A_Deep_Learning_Approach.ipynb\" target=\"_parent\"><img src=\"https://colab.research.google.com/assets/colab-badge.svg\" alt=\"Open In Colab\"/></a>"
      ]
    },
    {
      "cell_type": "code",
      "source": [
        "# Instal the World bank library\n",
        "\n",
        "!pip install wbdata"
      ],
      "metadata": {
        "colab": {
          "base_uri": "https://localhost:8080/",
          "height": 949
        },
        "collapsed": true,
        "id": "J60oMBPCtlti",
        "outputId": "6af851db-3b68-49c3-f352-4b7b56aaa3f4"
      },
      "execution_count": 3,
      "outputs": [
        {
          "output_type": "stream",
          "name": "stdout",
          "text": [
            "Collecting wbdata\n",
            "  Downloading wbdata-1.0.0-py3-none-any.whl.metadata (2.6 kB)\n",
            "Collecting appdirs<2.0,>=1.4 (from wbdata)\n",
            "  Downloading appdirs-1.4.4-py2.py3-none-any.whl.metadata (9.0 kB)\n",
            "Collecting backoff<3.0.0,>=2.2.1 (from wbdata)\n",
            "  Downloading backoff-2.2.1-py3-none-any.whl.metadata (14 kB)\n",
            "Requirement already satisfied: cachetools<6.0.0,>=5.3.2 in /usr/local/lib/python3.10/dist-packages (from wbdata) (5.5.0)\n",
            "Collecting dateparser<2.0.0,>=1.2.0 (from wbdata)\n",
            "  Downloading dateparser-1.2.0-py2.py3-none-any.whl.metadata (28 kB)\n",
            "Collecting decorator<6.0.0,>=5.1.1 (from wbdata)\n",
            "  Downloading decorator-5.1.1-py3-none-any.whl.metadata (4.0 kB)\n",
            "Requirement already satisfied: requests<3.0,>=2.0 in /usr/local/lib/python3.10/dist-packages (from wbdata) (2.32.3)\n",
            "Collecting shelved-cache<0.4.0,>=0.3.1 (from wbdata)\n",
            "  Downloading shelved_cache-0.3.1-py3-none-any.whl.metadata (4.7 kB)\n",
            "Collecting tabulate<0.9.0,>=0.8.5 (from wbdata)\n",
            "  Downloading tabulate-0.8.10-py3-none-any.whl.metadata (25 kB)\n",
            "Requirement already satisfied: python-dateutil in /usr/local/lib/python3.10/dist-packages (from dateparser<2.0.0,>=1.2.0->wbdata) (2.8.2)\n",
            "Requirement already satisfied: pytz in /usr/local/lib/python3.10/dist-packages (from dateparser<2.0.0,>=1.2.0->wbdata) (2024.2)\n",
            "Requirement already satisfied: regex!=2019.02.19,!=2021.8.27 in /usr/local/lib/python3.10/dist-packages (from dateparser<2.0.0,>=1.2.0->wbdata) (2024.9.11)\n",
            "Requirement already satisfied: tzlocal in /usr/local/lib/python3.10/dist-packages (from dateparser<2.0.0,>=1.2.0->wbdata) (5.2)\n",
            "Requirement already satisfied: charset-normalizer<4,>=2 in /usr/local/lib/python3.10/dist-packages (from requests<3.0,>=2.0->wbdata) (3.4.0)\n",
            "Requirement already satisfied: idna<4,>=2.5 in /usr/local/lib/python3.10/dist-packages (from requests<3.0,>=2.0->wbdata) (3.10)\n",
            "Requirement already satisfied: urllib3<3,>=1.21.1 in /usr/local/lib/python3.10/dist-packages (from requests<3.0,>=2.0->wbdata) (2.2.3)\n",
            "Requirement already satisfied: certifi>=2017.4.17 in /usr/local/lib/python3.10/dist-packages (from requests<3.0,>=2.0->wbdata) (2024.8.30)\n",
            "Requirement already satisfied: six>=1.5 in /usr/local/lib/python3.10/dist-packages (from python-dateutil->dateparser<2.0.0,>=1.2.0->wbdata) (1.16.0)\n",
            "Downloading wbdata-1.0.0-py3-none-any.whl (18 kB)\n",
            "Downloading appdirs-1.4.4-py2.py3-none-any.whl (9.6 kB)\n",
            "Downloading backoff-2.2.1-py3-none-any.whl (15 kB)\n",
            "Downloading dateparser-1.2.0-py2.py3-none-any.whl (294 kB)\n",
            "\u001b[2K   \u001b[90m━━━━━━━━━━━━━━━━━━━━━━━━━━━━━━━━━━━━━━━━\u001b[0m \u001b[32m295.0/295.0 kB\u001b[0m \u001b[31m7.6 MB/s\u001b[0m eta \u001b[36m0:00:00\u001b[0m\n",
            "\u001b[?25hDownloading decorator-5.1.1-py3-none-any.whl (9.1 kB)\n",
            "Downloading shelved_cache-0.3.1-py3-none-any.whl (7.8 kB)\n",
            "Downloading tabulate-0.8.10-py3-none-any.whl (29 kB)\n",
            "Installing collected packages: appdirs, tabulate, shelved-cache, decorator, backoff, dateparser, wbdata\n",
            "  Attempting uninstall: tabulate\n",
            "    Found existing installation: tabulate 0.9.0\n",
            "    Uninstalling tabulate-0.9.0:\n",
            "      Successfully uninstalled tabulate-0.9.0\n",
            "  Attempting uninstall: decorator\n",
            "    Found existing installation: decorator 4.4.2\n",
            "    Uninstalling decorator-4.4.2:\n",
            "      Successfully uninstalled decorator-4.4.2\n",
            "\u001b[31mERROR: pip's dependency resolver does not currently take into account all the packages that are installed. This behaviour is the source of the following dependency conflicts.\n",
            "ipython 7.34.0 requires jedi>=0.16, which is not installed.\n",
            "bigframes 1.24.0 requires tabulate>=0.9, but you have tabulate 0.8.10 which is incompatible.\n",
            "moviepy 1.0.3 requires decorator<5.0,>=4.0.2, but you have decorator 5.1.1 which is incompatible.\u001b[0m\u001b[31m\n",
            "\u001b[0mSuccessfully installed appdirs-1.4.4 backoff-2.2.1 dateparser-1.2.0 decorator-5.1.1 shelved-cache-0.3.1 tabulate-0.8.10 wbdata-1.0.0\n"
          ]
        },
        {
          "output_type": "display_data",
          "data": {
            "application/vnd.colab-display-data+json": {
              "pip_warning": {
                "packages": [
                  "decorator"
                ]
              },
              "id": "33add677c61b4e01925a32942a30df6e"
            }
          },
          "metadata": {}
        }
      ]
    },
    {
      "cell_type": "code",
      "execution_count": 1,
      "metadata": {
        "id": "aOIcv5jD50vC"
      },
      "outputs": [],
      "source": [
        "# Importing necessary libraries\n",
        "\n",
        "import yfinance as yf\n",
        "import pandas as pd\n",
        "import datetime\n",
        "import matplotlib.pyplot as plt\n",
        "import wbdata as wb\n"
      ]
    },
    {
      "cell_type": "markdown",
      "source": [
        "First, we will be fetching the currency data from the Yahoo Finance.\n",
        "The GBP and the USD will be the currency that will be used for this project\n",
        "The period that will be used for this project will be from 01 January 2013 to 31 December 2023"
      ],
      "metadata": {
        "id": "xNHfhMjk9puH"
      }
    },
    {
      "cell_type": "code",
      "source": [
        "# Defining the ticker symbol for GBP/USD\n",
        "tcker_symb = \"GBPUSD=X\"\n",
        "\n",
        "# Setting the data range\n",
        "strt_dt = \"2013-01-01\"\n",
        "ed_dt = \"2023-12-31\"\n",
        "\n",
        "# Fetching the data\n",
        "crcy_dt = yf.download(tcker_symb, start=strt_dt, end=ed_dt)\n",
        "\n",
        "# setting the index to convert the index to a date column\n",
        "crcy_dt.reset_index(inplace=True)\n",
        "\n",
        "# Flattening the columns\n",
        "crcy_dt.columns = ['_'.join(col).strip() if col[1] else col[0] for col in crcy_dt.columns.values]\n",
        "\n",
        "crcy_dt['Date'] = pd.to_datetime(crcy_dt['Date'])\n",
        "\n",
        "\n",
        "# Display the data structure after modification\n",
        "print(\"Data after flattening columns and setting 'Date':\")\n",
        "print(crcy_dt.head())"
      ],
      "metadata": {
        "colab": {
          "base_uri": "https://localhost:8080/"
        },
        "id": "nFs2bcx-9Rh8",
        "outputId": "f1fce9cc-fb09-42c7-c6dc-c0555cd09a6d"
      },
      "execution_count": 20,
      "outputs": [
        {
          "output_type": "stream",
          "name": "stderr",
          "text": [
            "\r[*********************100%***********************]  1 of 1 completed"
          ]
        },
        {
          "output_type": "stream",
          "name": "stdout",
          "text": [
            "Data after flattening columns and setting 'Date':\n",
            "                       Date  Adj Close_GBPUSD=X  Close_GBPUSD=X  \\\n",
            "0 2013-01-01 00:00:00+00:00            1.623640        1.623640   \n",
            "1 2013-01-02 00:00:00+00:00            1.624695        1.624695   \n",
            "2 2013-01-03 00:00:00+00:00            1.625250        1.625250   \n",
            "3 2013-01-04 00:00:00+00:00            1.608234        1.608234   \n",
            "4 2013-01-07 00:00:00+00:00            1.606787        1.606787   \n",
            "\n",
            "   High_GBPUSD=X  Low_GBPUSD=X  Open_GBPUSD=X  Volume_GBPUSD=X  \n",
            "0       1.632200      1.623377       1.623640                0  \n",
            "1       1.638404      1.624431       1.624695                0  \n",
            "2       1.625488      1.615091       1.625224                0  \n",
            "3       1.609010      1.601537       1.607795                0  \n",
            "4       1.608260      1.602282       1.606684                0  \n"
          ]
        },
        {
          "output_type": "stream",
          "name": "stderr",
          "text": [
            "\n"
          ]
        }
      ]
    },
    {
      "cell_type": "markdown",
      "source": [
        "Now, using the same period, we will fetch the macro economic data from the World bank for the United Kingdom and United States.\n",
        "\n",
        "The indicators we will be using is the GDP and Inflation rate."
      ],
      "metadata": {
        "id": "nTRzIVI2A5_O"
      }
    },
    {
      "cell_type": "code",
      "source": [
        "# Setting the date range\n",
        "dt_dte = (\"2013\", \"2023\")\n",
        "\n",
        "# Getting the GDP and Inflation data for US and UK\n",
        "gdp_dt = wb.get_data(\"NY.GDP.MKTP.CD\", country=['GBR', 'USA'], date=dt_dte)\n",
        "ifltn_dt = wb.get_data(\"FP.CPI.TOTL.ZG\", country=['GBR', 'USA'], date=dt_dte)\n",
        "\n",
        "# Converting this into DataFrames\n",
        "gdp_df = pd.DataFrame(gdp_dt)\n",
        "ifltn_df = pd.DataFrame(ifltn_dt)\n",
        "\n",
        "def extract_dict_value(row, key):\n",
        "    return row[key]['value'] if isinstance(row[key], dict) else row[key]\n",
        "\n",
        "gdp_df['country'] = gdp_df['country'].apply(extract_dict_value, key='value')\n",
        "gdp_df['indicator'] = gdp_df['indicator'].apply(extract_dict_value, key='value')\n",
        "\n",
        "ifltn_df['country'] = ifltn_df['country'].apply(extract_dict_value, key='value')\n",
        "ifltn_df['indicator'] = ifltn_df['indicator'].apply(extract_dict_value, key='value')\n",
        "\n",
        "gdp_df['date'] = pd.to_datetime(gdp_df['date'])\n",
        "ifltn_df['date'] = pd.to_datetime(ifltn_df['date'])\n",
        "\n",
        "gdp_pt = gdp_df.pivot(index='date', columns='country', values='value').rename(columns=lambda x: f\"GDP_{x}\")\n",
        "ifltn_pt = ifltn_df.pivot(index='date', columns='country', values='value').rename(columns=lambda x: f\"Inflation_{x}\")\n",
        "\n",
        "# Merging the GDP and Inflation data into a single DataFrame\n",
        "ecomc_dt = gdp_pt.join(ifltn_pt, how='outer')\n",
        "\n",
        "# Displaying the data\n",
        "print(ecomc_dt.head())\n"
      ],
      "metadata": {
        "colab": {
          "base_uri": "https://localhost:8080/"
        },
        "id": "AWVoKB2pAwh4",
        "outputId": "ed6072e0-6022-46d7-8d16-0959d91f26b4"
      },
      "execution_count": 9,
      "outputs": [
        {
          "output_type": "stream",
          "name": "stdout",
          "text": [
            "country     GDP_United Kingdom  GDP_United States  Inflation_United Kingdom  \\\n",
            "date                                                                          \n",
            "2013-01-01        2.784854e+12       1.688068e+13                  2.291667   \n",
            "2014-01-01        3.064708e+12       1.760814e+13                  1.451120   \n",
            "2015-01-01        2.927911e+12       1.829502e+13                  0.368047   \n",
            "2016-01-01        2.689107e+12       1.880491e+13                  1.008417   \n",
            "2017-01-01        2.680148e+12       1.961210e+13                  2.557756   \n",
            "\n",
            "country     Inflation_United States  \n",
            "date                                 \n",
            "2013-01-01                 1.464833  \n",
            "2014-01-01                 1.622223  \n",
            "2015-01-01                 0.118627  \n",
            "2016-01-01                 1.261583  \n",
            "2017-01-01                 2.130110  \n"
          ]
        }
      ]
    },
    {
      "cell_type": "markdown",
      "source": [
        "The Currency data and the Macroeconomic data will now be merged together"
      ],
      "metadata": {
        "id": "QSW1gIBG4HS4"
      }
    },
    {
      "cell_type": "code",
      "source": [
        "crcy_dt['Date'] = crcy_dt['Date'].dt.tz_localize(None)\n",
        "ecomc_dt.index = ecomc_dt.index.tz_localize(None)\n",
        "\n",
        "# Merging the daily currency data with the economic data using forward fill to handle the missing daily values\n",
        "cmbd_dt = pd.merge(crcy_dt, ecomc_dt, left_on='Date', right_index=True, how='left')\n",
        "cmbd_dt.fillna(method='ffill', inplace=True)\n",
        "\n",
        "# Displaying the combined data\n",
        "print(cmbd_dt.head())\n",
        "\n"
      ],
      "metadata": {
        "colab": {
          "base_uri": "https://localhost:8080/"
        },
        "id": "Z1htfFBVGYQ-",
        "outputId": "0b67a090-62a0-4a7a-8ce4-3af9979bb312"
      },
      "execution_count": 23,
      "outputs": [
        {
          "output_type": "stream",
          "name": "stdout",
          "text": [
            "        Date  Adj Close_GBPUSD=X  Close_GBPUSD=X  High_GBPUSD=X  Low_GBPUSD=X  \\\n",
            "0 2013-01-01            1.623640        1.623640       1.632200      1.623377   \n",
            "1 2013-01-02            1.624695        1.624695       1.638404      1.624431   \n",
            "2 2013-01-03            1.625250        1.625250       1.625488      1.615091   \n",
            "3 2013-01-04            1.608234        1.608234       1.609010      1.601537   \n",
            "4 2013-01-07            1.606787        1.606787       1.608260      1.602282   \n",
            "\n",
            "   Open_GBPUSD=X  Volume_GBPUSD=X  GDP_United Kingdom  GDP_United States  \\\n",
            "0       1.623640                0        2.784854e+12       1.688068e+13   \n",
            "1       1.624695                0        2.784854e+12       1.688068e+13   \n",
            "2       1.625224                0        2.784854e+12       1.688068e+13   \n",
            "3       1.607795                0        2.784854e+12       1.688068e+13   \n",
            "4       1.606684                0        2.784854e+12       1.688068e+13   \n",
            "\n",
            "   Inflation_United Kingdom  Inflation_United States  \n",
            "0                  2.291667                 1.464833  \n",
            "1                  2.291667                 1.464833  \n",
            "2                  2.291667                 1.464833  \n",
            "3                  2.291667                 1.464833  \n",
            "4                  2.291667                 1.464833  \n"
          ]
        },
        {
          "output_type": "stream",
          "name": "stderr",
          "text": [
            "<ipython-input-23-14d50c9c106e>:6: FutureWarning: DataFrame.fillna with 'method' is deprecated and will raise in a future version. Use obj.ffill() or obj.bfill() instead.\n",
            "  cmbd_dt.fillna(method='ffill', inplace=True)\n"
          ]
        }
      ]
    },
    {
      "cell_type": "code",
      "source": [],
      "metadata": {
        "id": "OqN9IRriDrYD"
      },
      "execution_count": null,
      "outputs": []
    }
  ]
}