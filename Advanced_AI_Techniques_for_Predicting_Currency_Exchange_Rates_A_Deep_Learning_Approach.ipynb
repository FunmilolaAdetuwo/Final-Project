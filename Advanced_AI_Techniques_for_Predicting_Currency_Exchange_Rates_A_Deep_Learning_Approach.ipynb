{
  "nbformat": 4,
  "nbformat_minor": 0,
  "metadata": {
    "colab": {
      "provenance": [],
      "authorship_tag": "ABX9TyNwWwII9mFFscI2TQIZW59A",
      "include_colab_link": true
    },
    "kernelspec": {
      "name": "python3",
      "display_name": "Python 3"
    },
    "language_info": {
      "name": "python"
    }
  },
  "cells": [
    {
      "cell_type": "markdown",
      "metadata": {
        "id": "view-in-github",
        "colab_type": "text"
      },
      "source": [
        "<a href=\"https://colab.research.google.com/github/FunmilolaAdetuwo/Final-Project/blob/main/Advanced_AI_Techniques_for_Predicting_Currency_Exchange_Rates_A_Deep_Learning_Approach.ipynb\" target=\"_parent\"><img src=\"https://colab.research.google.com/assets/colab-badge.svg\" alt=\"Open In Colab\"/></a>"
      ]
    },
    {
      "cell_type": "code",
      "execution_count": 1,
      "metadata": {
        "colab": {
          "base_uri": "https://localhost:8080/",
          "height": 949
        },
        "collapsed": true,
        "id": "EtAHAkc3onEp",
        "outputId": "31f609e2-396b-49d7-d114-87446dc41af6"
      },
      "outputs": [
        {
          "output_type": "stream",
          "name": "stdout",
          "text": [
            "Collecting wbdata\n",
            "  Downloading wbdata-1.0.0-py3-none-any.whl.metadata (2.6 kB)\n",
            "Collecting appdirs<2.0,>=1.4 (from wbdata)\n",
            "  Downloading appdirs-1.4.4-py2.py3-none-any.whl.metadata (9.0 kB)\n",
            "Collecting backoff<3.0.0,>=2.2.1 (from wbdata)\n",
            "  Downloading backoff-2.2.1-py3-none-any.whl.metadata (14 kB)\n",
            "Requirement already satisfied: cachetools<6.0.0,>=5.3.2 in /usr/local/lib/python3.10/dist-packages (from wbdata) (5.5.0)\n",
            "Collecting dateparser<2.0.0,>=1.2.0 (from wbdata)\n",
            "  Downloading dateparser-1.2.0-py2.py3-none-any.whl.metadata (28 kB)\n",
            "Collecting decorator<6.0.0,>=5.1.1 (from wbdata)\n",
            "  Downloading decorator-5.1.1-py3-none-any.whl.metadata (4.0 kB)\n",
            "Requirement already satisfied: requests<3.0,>=2.0 in /usr/local/lib/python3.10/dist-packages (from wbdata) (2.32.3)\n",
            "Collecting shelved-cache<0.4.0,>=0.3.1 (from wbdata)\n",
            "  Downloading shelved_cache-0.3.1-py3-none-any.whl.metadata (4.7 kB)\n",
            "Collecting tabulate<0.9.0,>=0.8.5 (from wbdata)\n",
            "  Downloading tabulate-0.8.10-py3-none-any.whl.metadata (25 kB)\n",
            "Requirement already satisfied: python-dateutil in /usr/local/lib/python3.10/dist-packages (from dateparser<2.0.0,>=1.2.0->wbdata) (2.8.2)\n",
            "Requirement already satisfied: pytz in /usr/local/lib/python3.10/dist-packages (from dateparser<2.0.0,>=1.2.0->wbdata) (2024.2)\n",
            "Requirement already satisfied: regex!=2019.02.19,!=2021.8.27 in /usr/local/lib/python3.10/dist-packages (from dateparser<2.0.0,>=1.2.0->wbdata) (2024.9.11)\n",
            "Requirement already satisfied: tzlocal in /usr/local/lib/python3.10/dist-packages (from dateparser<2.0.0,>=1.2.0->wbdata) (5.2)\n",
            "Requirement already satisfied: charset-normalizer<4,>=2 in /usr/local/lib/python3.10/dist-packages (from requests<3.0,>=2.0->wbdata) (3.4.0)\n",
            "Requirement already satisfied: idna<4,>=2.5 in /usr/local/lib/python3.10/dist-packages (from requests<3.0,>=2.0->wbdata) (3.10)\n",
            "Requirement already satisfied: urllib3<3,>=1.21.1 in /usr/local/lib/python3.10/dist-packages (from requests<3.0,>=2.0->wbdata) (2.2.3)\n",
            "Requirement already satisfied: certifi>=2017.4.17 in /usr/local/lib/python3.10/dist-packages (from requests<3.0,>=2.0->wbdata) (2024.8.30)\n",
            "Requirement already satisfied: six>=1.5 in /usr/local/lib/python3.10/dist-packages (from python-dateutil->dateparser<2.0.0,>=1.2.0->wbdata) (1.17.0)\n",
            "Downloading wbdata-1.0.0-py3-none-any.whl (18 kB)\n",
            "Downloading appdirs-1.4.4-py2.py3-none-any.whl (9.6 kB)\n",
            "Downloading backoff-2.2.1-py3-none-any.whl (15 kB)\n",
            "Downloading dateparser-1.2.0-py2.py3-none-any.whl (294 kB)\n",
            "\u001b[2K   \u001b[90m━━━━━━━━━━━━━━━━━━━━━━━━━━━━━━━━━━━━━━━━\u001b[0m \u001b[32m295.0/295.0 kB\u001b[0m \u001b[31m5.9 MB/s\u001b[0m eta \u001b[36m0:00:00\u001b[0m\n",
            "\u001b[?25hDownloading decorator-5.1.1-py3-none-any.whl (9.1 kB)\n",
            "Downloading shelved_cache-0.3.1-py3-none-any.whl (7.8 kB)\n",
            "Downloading tabulate-0.8.10-py3-none-any.whl (29 kB)\n",
            "Installing collected packages: appdirs, tabulate, shelved-cache, decorator, backoff, dateparser, wbdata\n",
            "  Attempting uninstall: tabulate\n",
            "    Found existing installation: tabulate 0.9.0\n",
            "    Uninstalling tabulate-0.9.0:\n",
            "      Successfully uninstalled tabulate-0.9.0\n",
            "  Attempting uninstall: decorator\n",
            "    Found existing installation: decorator 4.4.2\n",
            "    Uninstalling decorator-4.4.2:\n",
            "      Successfully uninstalled decorator-4.4.2\n",
            "\u001b[31mERROR: pip's dependency resolver does not currently take into account all the packages that are installed. This behaviour is the source of the following dependency conflicts.\n",
            "ipython 7.34.0 requires jedi>=0.16, which is not installed.\n",
            "bigframes 1.27.0 requires tabulate>=0.9, but you have tabulate 0.8.10 which is incompatible.\n",
            "moviepy 1.0.3 requires decorator<5.0,>=4.0.2, but you have decorator 5.1.1 which is incompatible.\u001b[0m\u001b[31m\n",
            "\u001b[0mSuccessfully installed appdirs-1.4.4 backoff-2.2.1 dateparser-1.2.0 decorator-5.1.1 shelved-cache-0.3.1 tabulate-0.8.10 wbdata-1.0.0\n"
          ]
        },
        {
          "output_type": "display_data",
          "data": {
            "application/vnd.colab-display-data+json": {
              "pip_warning": {
                "packages": [
                  "decorator"
                ]
              },
              "id": "ecb44b7a4a7d4be18e2cd918b5cee6b5"
            }
          },
          "metadata": {}
        }
      ],
      "source": [
        "# Instal the World bank library\n",
        "\n",
        "!pip install wbdata"
      ]
    },
    {
      "cell_type": "code",
      "source": [
        "# Instal the keras tuner library\n",
        "!pip install keras-tuner"
      ],
      "metadata": {
        "collapsed": true,
        "colab": {
          "base_uri": "https://localhost:8080/"
        },
        "id": "9uySp9Mro5Bm",
        "outputId": "a6997a57-1afd-4f20-e40e-f5fdf6f47aef"
      },
      "execution_count": 1,
      "outputs": [
        {
          "output_type": "stream",
          "name": "stdout",
          "text": [
            "Collecting keras-tuner\n",
            "  Downloading keras_tuner-1.4.7-py3-none-any.whl.metadata (5.4 kB)\n",
            "Requirement already satisfied: keras in /usr/local/lib/python3.10/dist-packages (from keras-tuner) (3.5.0)\n",
            "Requirement already satisfied: packaging in /usr/local/lib/python3.10/dist-packages (from keras-tuner) (24.2)\n",
            "Requirement already satisfied: requests in /usr/local/lib/python3.10/dist-packages (from keras-tuner) (2.32.3)\n",
            "Collecting kt-legacy (from keras-tuner)\n",
            "  Downloading kt_legacy-1.0.5-py3-none-any.whl.metadata (221 bytes)\n",
            "Requirement already satisfied: absl-py in /usr/local/lib/python3.10/dist-packages (from keras->keras-tuner) (1.4.0)\n",
            "Requirement already satisfied: numpy in /usr/local/lib/python3.10/dist-packages (from keras->keras-tuner) (1.26.4)\n",
            "Requirement already satisfied: rich in /usr/local/lib/python3.10/dist-packages (from keras->keras-tuner) (13.9.4)\n",
            "Requirement already satisfied: namex in /usr/local/lib/python3.10/dist-packages (from keras->keras-tuner) (0.0.8)\n",
            "Requirement already satisfied: h5py in /usr/local/lib/python3.10/dist-packages (from keras->keras-tuner) (3.12.1)\n",
            "Requirement already satisfied: optree in /usr/local/lib/python3.10/dist-packages (from keras->keras-tuner) (0.13.1)\n",
            "Requirement already satisfied: ml-dtypes in /usr/local/lib/python3.10/dist-packages (from keras->keras-tuner) (0.4.1)\n",
            "Requirement already satisfied: charset-normalizer<4,>=2 in /usr/local/lib/python3.10/dist-packages (from requests->keras-tuner) (3.4.0)\n",
            "Requirement already satisfied: idna<4,>=2.5 in /usr/local/lib/python3.10/dist-packages (from requests->keras-tuner) (3.10)\n",
            "Requirement already satisfied: urllib3<3,>=1.21.1 in /usr/local/lib/python3.10/dist-packages (from requests->keras-tuner) (2.2.3)\n",
            "Requirement already satisfied: certifi>=2017.4.17 in /usr/local/lib/python3.10/dist-packages (from requests->keras-tuner) (2024.8.30)\n",
            "Requirement already satisfied: typing-extensions>=4.5.0 in /usr/local/lib/python3.10/dist-packages (from optree->keras->keras-tuner) (4.12.2)\n",
            "Requirement already satisfied: markdown-it-py>=2.2.0 in /usr/local/lib/python3.10/dist-packages (from rich->keras->keras-tuner) (3.0.0)\n",
            "Requirement already satisfied: pygments<3.0.0,>=2.13.0 in /usr/local/lib/python3.10/dist-packages (from rich->keras->keras-tuner) (2.18.0)\n",
            "Requirement already satisfied: mdurl~=0.1 in /usr/local/lib/python3.10/dist-packages (from markdown-it-py>=2.2.0->rich->keras->keras-tuner) (0.1.2)\n",
            "Downloading keras_tuner-1.4.7-py3-none-any.whl (129 kB)\n",
            "\u001b[2K   \u001b[90m━━━━━━━━━━━━━━━━━━━━━━━━━━━━━━━━━━━━━━━━\u001b[0m \u001b[32m129.1/129.1 kB\u001b[0m \u001b[31m2.6 MB/s\u001b[0m eta \u001b[36m0:00:00\u001b[0m\n",
            "\u001b[?25hDownloading kt_legacy-1.0.5-py3-none-any.whl (9.6 kB)\n",
            "Installing collected packages: kt-legacy, keras-tuner\n",
            "Successfully installed keras-tuner-1.4.7 kt-legacy-1.0.5\n"
          ]
        }
      ]
    },
    {
      "cell_type": "code",
      "source": [
        "# Importing necessary libraries\n",
        "\n",
        "import yfinance as yf\n",
        "import pandas as pd\n",
        "import datetime\n",
        "import matplotlib.pyplot as plt\n",
        "import wbdata as wb\n",
        "import seaborn as sns\n",
        "import matplotlib.dates as mdates\n",
        "from sklearn.model_selection import train_test_split\n",
        "from sklearn.preprocessing import StandardScaler\n",
        "import tensorflow as tf\n",
        "from tensorflow.keras.models import Sequential\n",
        "from tensorflow.keras.layers import LSTM, Dense, Dropout, Input, BatchNormalization\n",
        "from statsmodels.tsa.arima.model import ARIMA\n",
        "import numpy as np\n",
        "from sklearn.metrics import mean_squared_error, mean_absolute_error, r2_score\n",
        "from tensorflow.keras.layers import Conv1D, Dense, Flatten, Dropout\n",
        "from tensorflow.keras.callbacks import EarlyStopping, LearningRateScheduler\n",
        "from tensorflow.keras.optimizers import Adam\n",
        "from keras.layers import GRU, Dropout, Dense\n",
        "from keras.models import Sequential\n",
        "import kerastuner as kt\n",
        "from kerastuner.tuners import RandomSearch\n",
        "from tensorflow.keras.regularizers import l2"
      ],
      "metadata": {
        "colab": {
          "base_uri": "https://localhost:8080/"
        },
        "id": "b-XsjdeTo91s",
        "outputId": "504e9054-783b-4bd4-e3a1-887d1c624d8e"
      },
      "execution_count": 2,
      "outputs": [
        {
          "output_type": "stream",
          "name": "stderr",
          "text": [
            "<ipython-input-2-31c1e52c3c7b>:23: DeprecationWarning: `import kerastuner` is deprecated, please use `import keras_tuner`.\n",
            "  import kerastuner as kt\n"
          ]
        }
      ]
    },
    {
      "cell_type": "markdown",
      "source": [
        "First, we will be fetching the currency data from the Yahoo Finance. The GBP and the USD will be the currency that will be used for this project The period that will be used for this project will be from 01 January 2004 to 31 December 2023"
      ],
      "metadata": {
        "id": "0MREKiT7pHBu"
      }
    },
    {
      "cell_type": "code",
      "source": [
        "# Defining the ticker symbol for GBP/USD\n",
        "tcker_symb = \"GBPUSD=X\"\n",
        "\n",
        "# Setting the data range\n",
        "strt_dt = \"2004-01-01\"\n",
        "ed_dt = \"2023-12-31\"\n",
        "\n",
        "# Fetching the data\n",
        "crcy_dt = yf.download(tcker_symb, start=strt_dt, end=ed_dt)\n",
        "\n",
        "# setting the index to convert the index to a date column\n",
        "crcy_dt.reset_index(inplace=True)\n",
        "\n",
        "# Flattening the columns\n",
        "crcy_dt.columns = ['_'.join(col).strip() if col[1] else col[0] for col in crcy_dt.columns.values]\n",
        "\n",
        "crcy_dt['Date'] = pd.to_datetime(crcy_dt['Date'])\n",
        "\n",
        "\n",
        "# Display the data structure after modification\n",
        "print(\"Data after flattening columns and setting 'Date':\")\n",
        "print(crcy_dt.head())"
      ],
      "metadata": {
        "colab": {
          "base_uri": "https://localhost:8080/"
        },
        "id": "MvEs2H82pD7-",
        "outputId": "86746eb3-6f5e-4264-bdb8-d7a4d500ee0c"
      },
      "execution_count": 3,
      "outputs": [
        {
          "output_type": "stream",
          "name": "stderr",
          "text": [
            "\r[*********************100%***********************]  1 of 1 completed"
          ]
        },
        {
          "output_type": "stream",
          "name": "stdout",
          "text": [
            "Data after flattening columns and setting 'Date':\n",
            "        Date  Adj Close_GBPUSD=X  Close_GBPUSD=X  High_GBPUSD=X  Low_GBPUSD=X  \\\n",
            "0 2004-01-01            1.785204        1.785204       1.788813      1.781705   \n",
            "1 2004-01-02            1.793690        1.793690       1.795010      1.779201   \n",
            "2 2004-01-05            1.807207        1.807207       1.810315      1.795107   \n",
            "3 2004-01-06            1.821295        1.821295       1.827786      1.805510   \n",
            "4 2004-01-07            1.817785        1.817785       1.825584      1.812711   \n",
            "\n",
            "   Open_GBPUSD=X  Volume_GBPUSD=X  \n",
            "0       1.788813                0  \n",
            "1       1.785587                0  \n",
            "2       1.795493                0  \n",
            "3       1.807403                0  \n",
            "4       1.820897                0  \n"
          ]
        },
        {
          "output_type": "stream",
          "name": "stderr",
          "text": [
            "\n"
          ]
        }
      ]
    },
    {
      "cell_type": "markdown",
      "source": [
        "Now, using the same period, we will fetch the macro economic data from the World bank for the United Kingdom and United States.\n",
        "\n",
        "The indicators to be used is the GDP and Inflation rate."
      ],
      "metadata": {
        "id": "5EWmeEMBpQIT"
      }
    },
    {
      "cell_type": "code",
      "source": [
        "# Setting the date range\n",
        "dt_dte = (\"2004\", \"2023\")\n",
        "\n",
        "# Getting the GDP and Inflation data for US and UK\n",
        "gdp_dt = wb.get_data(\"NY.GDP.MKTP.CD\", country=['GBR', 'USA'], date=dt_dte)\n",
        "ifltn_dt = wb.get_data(\"FP.CPI.TOTL.ZG\", country=['GBR', 'USA'], date=dt_dte)\n",
        "\n",
        "# Converting this into DataFrames\n",
        "gdp_df = pd.DataFrame(gdp_dt)\n",
        "ifltn_df = pd.DataFrame(ifltn_dt)\n",
        "\n",
        "def extract_dict_value(row, key):\n",
        "    return row[key]['value'] if isinstance(row[key], dict) else row[key]\n",
        "\n",
        "gdp_df['country'] = gdp_df['country'].apply(extract_dict_value, key='value')\n",
        "gdp_df['indicator'] = gdp_df['indicator'].apply(extract_dict_value, key='value')\n",
        "\n",
        "ifltn_df['country'] = ifltn_df['country'].apply(extract_dict_value, key='value')\n",
        "ifltn_df['indicator'] = ifltn_df['indicator'].apply(extract_dict_value, key='value')\n",
        "\n",
        "gdp_df['date'] = pd.to_datetime(gdp_df['date'])\n",
        "ifltn_df['date'] = pd.to_datetime(ifltn_df['date'])\n",
        "\n",
        "gdp_pt = gdp_df.pivot(index='date', columns='country', values='value').rename(columns=lambda x: f\"GDP_{x}\")\n",
        "ifltn_pt = ifltn_df.pivot(index='date', columns='country', values='value').rename(columns=lambda x: f\"Inflation_{x}\")\n",
        "\n",
        "# Merging the GDP and Inflation data into a single DataFrame\n",
        "ecomc_dt = gdp_pt.join(ifltn_pt, how='outer')\n",
        "\n",
        "# Displaying the data\n",
        "print(ecomc_dt.head())"
      ],
      "metadata": {
        "colab": {
          "base_uri": "https://localhost:8080/"
        },
        "id": "XAyfQcDwpNYj",
        "outputId": "5cfaf0aa-46c0-4415-9db6-ad08580be4de"
      },
      "execution_count": 4,
      "outputs": [
        {
          "output_type": "stream",
          "name": "stdout",
          "text": [
            "country     GDP_United Kingdom  GDP_United States  Inflation_United Kingdom  \\\n",
            "date                                                                          \n",
            "2004-01-01        2.421525e+12       1.221720e+13                  1.390398   \n",
            "2005-01-01        2.543180e+12       1.303920e+13                  2.089136   \n",
            "2006-01-01        2.708442e+12       1.381558e+13                  2.455662   \n",
            "2007-01-01        3.090510e+12       1.447423e+13                  2.386562   \n",
            "2008-01-01        2.929412e+12       1.476986e+13                  3.521409   \n",
            "\n",
            "country     Inflation_United States  \n",
            "date                                 \n",
            "2004-01-01                 2.677237  \n",
            "2005-01-01                 3.392747  \n",
            "2006-01-01                 3.225944  \n",
            "2007-01-01                 2.852672  \n",
            "2008-01-01                 3.839100  \n"
          ]
        }
      ]
    },
    {
      "cell_type": "markdown",
      "source": [
        "The Currency data and the Macroeconomic data is merged together. The daily exchange rate data of GBP/USD with annual GDP and inflation data for the UK and the US was merged together. In this integration, there is high-frequency daily data, which shows trends in currency exchange rate, with lower-frequency annual data that shows the macro economic data.\n",
        "\n",
        "The datasets are different in frequency—daily for exchange rates and annually for macro economic indicators. This was aligned by using a forward fill method, which carries forward the last known annual values until new data becomes available. This means every daily exchange rate from January 1, 2004, to December 29, 2023, is associated with the latest annual macro economic data."
      ],
      "metadata": {
        "id": "Om5TOMORpXoM"
      }
    },
    {
      "cell_type": "code",
      "source": [
        "crcy_dt['Date'] = crcy_dt['Date'].dt.tz_localize(None)\n",
        "ecomc_dt.index = ecomc_dt.index.tz_localize(None)\n",
        "\n",
        "# Merging the daily currency data with the economic data using forward fill to handle the missing daily values\n",
        "cmbd_dt = pd.merge(crcy_dt, ecomc_dt, left_on='Date', right_index=True, how='left')\n",
        "cmbd_dt.fillna(method='ffill', inplace=True)\n",
        "\n",
        "# Displaying the combined data\n",
        "print(cmbd_dt.head())"
      ],
      "metadata": {
        "colab": {
          "base_uri": "https://localhost:8080/"
        },
        "id": "HYtT3s4-pT_3",
        "outputId": "8f4636ac-dc3b-4d82-fdc1-7f153ab03ccb"
      },
      "execution_count": 5,
      "outputs": [
        {
          "output_type": "stream",
          "name": "stdout",
          "text": [
            "        Date  Adj Close_GBPUSD=X  Close_GBPUSD=X  High_GBPUSD=X  Low_GBPUSD=X  \\\n",
            "0 2004-01-01            1.785204        1.785204       1.788813      1.781705   \n",
            "1 2004-01-02            1.793690        1.793690       1.795010      1.779201   \n",
            "2 2004-01-05            1.807207        1.807207       1.810315      1.795107   \n",
            "3 2004-01-06            1.821295        1.821295       1.827786      1.805510   \n",
            "4 2004-01-07            1.817785        1.817785       1.825584      1.812711   \n",
            "\n",
            "   Open_GBPUSD=X  Volume_GBPUSD=X  GDP_United Kingdom  GDP_United States  \\\n",
            "0       1.788813                0        2.421525e+12       1.221720e+13   \n",
            "1       1.785587                0        2.421525e+12       1.221720e+13   \n",
            "2       1.795493                0        2.421525e+12       1.221720e+13   \n",
            "3       1.807403                0        2.421525e+12       1.221720e+13   \n",
            "4       1.820897                0        2.421525e+12       1.221720e+13   \n",
            "\n",
            "   Inflation_United Kingdom  Inflation_United States  \n",
            "0                  1.390398                 2.677237  \n",
            "1                  1.390398                 2.677237  \n",
            "2                  1.390398                 2.677237  \n",
            "3                  1.390398                 2.677237  \n",
            "4                  1.390398                 2.677237  \n"
          ]
        },
        {
          "output_type": "stream",
          "name": "stderr",
          "text": [
            "<ipython-input-5-c6f190ef9204>:6: FutureWarning: DataFrame.fillna with 'method' is deprecated and will raise in a future version. Use obj.ffill() or obj.bfill() instead.\n",
            "  cmbd_dt.fillna(method='ffill', inplace=True)\n"
          ]
        }
      ]
    },
    {
      "cell_type": "code",
      "source": [],
      "metadata": {
        "id": "OfU5_vWRpcdO"
      },
      "execution_count": null,
      "outputs": []
    }
  ]
}